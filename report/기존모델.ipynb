{
 "cells": [
  {
   "cell_type": "code",
   "execution_count": 1,
   "metadata": {},
   "outputs": [],
   "source": [
    "import pandas as pd"
   ]
  },
  {
   "cell_type": "code",
   "execution_count": 27,
   "metadata": {},
   "outputs": [],
   "source": [
    "df3 = pd.read_csv(\"supply.csv\", encoding=\"euc-kr\", sep = \" \")"
   ]
  },
  {
   "cell_type": "code",
   "execution_count": 19,
   "metadata": {},
   "outputs": [
    {
     "data": {
      "text/plain": [
       "Index(['연도 합계면적 합계생산량 논벼면적 논벼10a당수량 논벼생산량 밭벼면적 밭벼10a당수량 밭벼생산량'], dtype='object')"
      ]
     },
     "execution_count": 19,
     "metadata": {},
     "output_type": "execute_result"
    }
   ],
   "source": [
    "df3.columns"
   ]
  },
  {
   "cell_type": "code",
   "execution_count": 28,
   "metadata": {},
   "outputs": [
    {
     "data": {
      "text/html": [
       "<div>\n",
       "<style scoped>\n",
       "    .dataframe tbody tr th:only-of-type {\n",
       "        vertical-align: middle;\n",
       "    }\n",
       "\n",
       "    .dataframe tbody tr th {\n",
       "        vertical-align: top;\n",
       "    }\n",
       "\n",
       "    .dataframe thead th {\n",
       "        text-align: right;\n",
       "    }\n",
       "</style>\n",
       "<table border=\"1\" class=\"dataframe\">\n",
       "  <thead>\n",
       "    <tr style=\"text-align: right;\">\n",
       "      <th></th>\n",
       "      <th>‘04</th>\n",
       "      <th>‘05</th>\n",
       "      <th>‘06</th>\n",
       "      <th>‘07</th>\n",
       "      <th>‘08</th>\n",
       "      <th>‘09</th>\n",
       "      <th>‘10</th>\n",
       "      <th>‘11</th>\n",
       "      <th>‘12</th>\n",
       "      <th>‘13</th>\n",
       "      <th>‘14</th>\n",
       "      <th>‘15</th>\n",
       "      <th>‘16</th>\n",
       "      <th>‘17</th>\n",
       "    </tr>\n",
       "  </thead>\n",
       "  <tbody>\n",
       "    <tr>\n",
       "      <th>0</th>\n",
       "      <td>18,880</td>\n",
       "      <td>19,858</td>\n",
       "      <td>19,771</td>\n",
       "      <td>19,382</td>\n",
       "      <td>18,125</td>\n",
       "      <td>18,558</td>\n",
       "      <td>19,939</td>\n",
       "      <td>19,889</td>\n",
       "      <td>20,059</td>\n",
       "      <td>19,627</td>\n",
       "      <td>20,102</td>\n",
       "      <td>20,108</td>\n",
       "      <td>20,461</td>\n",
       "      <td>20,009</td>\n",
       "    </tr>\n",
       "  </tbody>\n",
       "</table>\n",
       "</div>"
      ],
      "text/plain": [
       "      ‘04     ‘05     ‘06     ‘07     ‘08     ‘09     ‘10     ‘11     ‘12  \\\n",
       "0  18,880  19,858  19,771  19,382  18,125  18,558  19,939  19,889  20,059   \n",
       "\n",
       "      ‘13     ‘14     ‘15     ‘16     ‘17  \n",
       "0  19,627  20,102  20,108  20,461  20,009  "
      ]
     },
     "execution_count": 28,
     "metadata": {},
     "output_type": "execute_result"
    }
   ],
   "source": [
    "df3"
   ]
  },
  {
   "cell_type": "code",
   "execution_count": 25,
   "metadata": {},
   "outputs": [],
   "source": [
    "df4 = df3.iloc[:, :3]"
   ]
  },
  {
   "cell_type": "code",
   "execution_count": 29,
   "metadata": {},
   "outputs": [],
   "source": [
    "df3.to_csv(\"supply2.csv\", sep = \",\", encoding=\"euc-kr\")"
   ]
  },
  {
   "cell_type": "code",
   "execution_count": 46,
   "metadata": {},
   "outputs": [],
   "source": [
    "df3 = pd.read_csv(\"original.csv\", encoding=\"euc-kr\", index_col=\"year\")"
   ]
  },
  {
   "cell_type": "code",
   "execution_count": 51,
   "metadata": {},
   "outputs": [
    {
     "data": {
      "text/html": [
       "<div>\n",
       "<style scoped>\n",
       "    .dataframe tbody tr th:only-of-type {\n",
       "        vertical-align: middle;\n",
       "    }\n",
       "\n",
       "    .dataframe tbody tr th {\n",
       "        vertical-align: top;\n",
       "    }\n",
       "\n",
       "    .dataframe thead th {\n",
       "        text-align: right;\n",
       "    }\n",
       "</style>\n",
       "<table border=\"1\" class=\"dataframe\">\n",
       "  <thead>\n",
       "    <tr style=\"text-align: right;\">\n",
       "      <th></th>\n",
       "      <th>전년도재고량(천톤)</th>\n",
       "      <th>쌀생산량-정부매입량</th>\n",
       "      <th>전년도단경기가격</th>\n",
       "      <th>수확기</th>\n",
       "    </tr>\n",
       "    <tr>\n",
       "      <th>year</th>\n",
       "      <th></th>\n",
       "      <th></th>\n",
       "      <th></th>\n",
       "      <th></th>\n",
       "    </tr>\n",
       "  </thead>\n",
       "  <tbody>\n",
       "    <tr>\n",
       "      <th>2005</th>\n",
       "      <td>6.745236</td>\n",
       "      <td>15.523830</td>\n",
       "      <td>10.461130</td>\n",
       "      <td>10.499656</td>\n",
       "    </tr>\n",
       "    <tr>\n",
       "      <th>2006</th>\n",
       "      <td>6.723832</td>\n",
       "      <td>15.483179</td>\n",
       "      <td>10.592702</td>\n",
       "      <td>10.532123</td>\n",
       "    </tr>\n",
       "    <tr>\n",
       "      <th>2007</th>\n",
       "      <td>6.721426</td>\n",
       "      <td>15.431635</td>\n",
       "      <td>10.567669</td>\n",
       "      <td>10.551167</td>\n",
       "    </tr>\n",
       "    <tr>\n",
       "      <th>2008</th>\n",
       "      <td>6.543912</td>\n",
       "      <td>15.519738</td>\n",
       "      <td>10.584309</td>\n",
       "      <td>10.611302</td>\n",
       "    </tr>\n",
       "    <tr>\n",
       "      <th>2009</th>\n",
       "      <td>6.530878</td>\n",
       "      <td>15.529807</td>\n",
       "      <td>10.641656</td>\n",
       "      <td>10.450510</td>\n",
       "    </tr>\n",
       "    <tr>\n",
       "      <th>2010</th>\n",
       "      <td>6.900731</td>\n",
       "      <td>15.391602</td>\n",
       "      <td>10.530148</td>\n",
       "      <td>10.436495</td>\n",
       "    </tr>\n",
       "    <tr>\n",
       "      <th>2011</th>\n",
       "      <td>7.319202</td>\n",
       "      <td>15.378878</td>\n",
       "      <td>10.384647</td>\n",
       "      <td>10.620864</td>\n",
       "    </tr>\n",
       "    <tr>\n",
       "      <th>2012</th>\n",
       "      <td>6.957497</td>\n",
       "      <td>15.333898</td>\n",
       "      <td>10.571317</td>\n",
       "      <td>10.677892</td>\n",
       "    </tr>\n",
       "    <tr>\n",
       "      <th>2013</th>\n",
       "      <td>6.635947</td>\n",
       "      <td>15.389261</td>\n",
       "      <td>10.643447</td>\n",
       "      <td>10.689647</td>\n",
       "    </tr>\n",
       "    <tr>\n",
       "      <th>2014</th>\n",
       "      <td>6.685861</td>\n",
       "      <td>15.389809</td>\n",
       "      <td>10.700995</td>\n",
       "      <td>10.635326</td>\n",
       "    </tr>\n",
       "    <tr>\n",
       "      <th>2015</th>\n",
       "      <td>6.773080</td>\n",
       "      <td>15.393522</td>\n",
       "      <td>10.658882</td>\n",
       "      <td>10.532816</td>\n",
       "    </tr>\n",
       "    <tr>\n",
       "      <th>2016</th>\n",
       "      <td>7.210818</td>\n",
       "      <td>15.364327</td>\n",
       "      <td>10.593931</td>\n",
       "      <td>10.370518</td>\n",
       "    </tr>\n",
       "    <tr>\n",
       "      <th>2017</th>\n",
       "      <td>7.465655</td>\n",
       "      <td>15.311841</td>\n",
       "      <td>10.475850</td>\n",
       "      <td>10.547996</td>\n",
       "    </tr>\n",
       "  </tbody>\n",
       "</table>\n",
       "</div>"
      ],
      "text/plain": [
       "      전년도재고량(천톤)  쌀생산량-정부매입량   전년도단경기가격        수확기\n",
       "year                                              \n",
       "2005    6.745236   15.523830  10.461130  10.499656\n",
       "2006    6.723832   15.483179  10.592702  10.532123\n",
       "2007    6.721426   15.431635  10.567669  10.551167\n",
       "2008    6.543912   15.519738  10.584309  10.611302\n",
       "2009    6.530878   15.529807  10.641656  10.450510\n",
       "2010    6.900731   15.391602  10.530148  10.436495\n",
       "2011    7.319202   15.378878  10.384647  10.620864\n",
       "2012    6.957497   15.333898  10.571317  10.677892\n",
       "2013    6.635947   15.389261  10.643447  10.689647\n",
       "2014    6.685861   15.389809  10.700995  10.635326\n",
       "2015    6.773080   15.393522  10.658882  10.532816\n",
       "2016    7.210818   15.364327  10.593931  10.370518\n",
       "2017    7.465655   15.311841  10.475850  10.547996"
      ]
     },
     "execution_count": 51,
     "metadata": {},
     "output_type": "execute_result"
    }
   ],
   "source": [
    "df3"
   ]
  },
  {
   "cell_type": "code",
   "execution_count": 48,
   "metadata": {},
   "outputs": [],
   "source": [
    "lencol = len(df3.columns)\n",
    "for i in range(lencol):\n",
    "    l1 = df3.iloc[:, i]\n",
    "    lenl1 = len(l1)\n",
    "    l2 = []\n",
    "    \n",
    "    for a in l1:\n",
    "        x = np.log(a)\n",
    "        l2.append(x)\n",
    "        \n",
    "    df3.iloc[:, i] = l2"
   ]
  },
  {
   "cell_type": "code",
   "execution_count": 32,
   "metadata": {},
   "outputs": [],
   "source": [
    "from sklearn import datasets, linear_model\n",
    "import pandas as pd\n",
    "import numpy as np"
   ]
  },
  {
   "cell_type": "code",
   "execution_count": 49,
   "metadata": {},
   "outputs": [
    {
     "name": "stdout",
     "output_type": "stream",
     "text": [
      "[-0.49924378 -1.63910527 -0.85873579] 48.32587367015266\n"
     ]
    }
   ],
   "source": [
    "model1 = linear_model.LinearRegression()\n",
    "x_vars1 = df3.iloc[:, :-1]\n",
    "lr = model1.fit(x_vars1, df3.iloc[:, -1])\n",
    "print(model1.coef_, model1.intercept_)"
   ]
  },
  {
   "cell_type": "code",
   "execution_count": 50,
   "metadata": {},
   "outputs": [
    {
     "data": {
      "text/plain": [
       "0.43400666468152205"
      ]
     },
     "execution_count": 50,
     "metadata": {},
     "output_type": "execute_result"
    }
   ],
   "source": [
    "lr.score(x_vars1, df3.iloc[:, -1])"
   ]
  },
  {
   "cell_type": "code",
   "execution_count": null,
   "metadata": {},
   "outputs": [],
   "source": []
  }
 ],
 "metadata": {
  "kernelspec": {
   "display_name": "Python 3",
   "language": "python",
   "name": "python3"
  },
  "language_info": {
   "codemirror_mode": {
    "name": "ipython",
    "version": 3
   },
   "file_extension": ".py",
   "mimetype": "text/x-python",
   "name": "python",
   "nbconvert_exporter": "python",
   "pygments_lexer": "ipython3",
   "version": "3.6.5"
  }
 },
 "nbformat": 4,
 "nbformat_minor": 2
}
